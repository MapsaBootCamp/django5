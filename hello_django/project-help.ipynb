{
 "cells": [
  {
   "cell_type": "code",
   "execution_count": 1,
   "id": "9a83d3b4",
   "metadata": {},
   "outputs": [],
   "source": [
    "from app.models import Article, Comment, Author"
   ]
  },
  {
   "cell_type": "code",
   "execution_count": 2,
   "id": "33b22dbe",
   "metadata": {},
   "outputs": [
    {
     "data": {
      "text/plain": [
       "<QuerySet [<Article: راه های رسیدن به خدا>, <Article: chegune django yad begirim>]>"
      ]
     },
     "execution_count": 2,
     "metadata": {},
     "output_type": "execute_result"
    }
   ],
   "source": [
    "Article.objects.all()"
   ]
  },
  {
   "cell_type": "code",
   "execution_count": 3,
   "id": "731408f2",
   "metadata": {},
   "outputs": [
    {
     "data": {
      "text/plain": [
       "'p'"
      ]
     },
     "execution_count": 3,
     "metadata": {},
     "output_type": "execute_result"
    }
   ],
   "source": [
    "Comment.objects.all().last().rate"
   ]
  },
  {
   "cell_type": "code",
   "execution_count": 4,
   "id": "4d82dd0d",
   "metadata": {},
   "outputs": [],
   "source": [
    "qs = Article.objects.all()"
   ]
  },
  {
   "cell_type": "code",
   "execution_count": 5,
   "id": "15977d61",
   "metadata": {},
   "outputs": [
    {
     "name": "stdout",
     "output_type": "stream",
     "text": [
      "SELECT \"app_article\".\"id\", \"app_article\".\"title\", \"app_article\".\"body\", \"app_article\".\"author_id\", \"app_article\".\"created_time\", \"app_article\".\"update_time\", \"app_article\".\"status\" FROM \"app_article\"\n"
     ]
    }
   ],
   "source": [
    "print(qs.query)"
   ]
  },
  {
   "cell_type": "code",
   "execution_count": 6,
   "id": "f1031d66",
   "metadata": {},
   "outputs": [
    {
     "name": "stdout",
     "output_type": "stream",
     "text": [
      "ایمان تقوا عمل صالح تزکیه نفس\n",
      "bemapsa beyayd\n"
     ]
    }
   ],
   "source": [
    "for elm in qs:\n",
    "    print(elm.body)"
   ]
  },
  {
   "cell_type": "code",
   "execution_count": 7,
   "id": "b3bb8b31",
   "metadata": {},
   "outputs": [],
   "source": [
    "qs = Article.objects.all()[:10]"
   ]
  },
  {
   "cell_type": "code",
   "execution_count": 8,
   "id": "ce431f17",
   "metadata": {},
   "outputs": [
    {
     "name": "stdout",
     "output_type": "stream",
     "text": [
      "SELECT \"app_article\".\"id\", \"app_article\".\"title\", \"app_article\".\"body\", \"app_article\".\"author_id\", \"app_article\".\"created_time\", \"app_article\".\"update_time\", \"app_article\".\"status\" FROM \"app_article\" LIMIT 10\n"
     ]
    }
   ],
   "source": [
    "print(qs.query)"
   ]
  },
  {
   "cell_type": "code",
   "execution_count": 9,
   "id": "b83d53de",
   "metadata": {},
   "outputs": [
    {
     "data": {
      "text/plain": [
       "<Author: shabnam>"
      ]
     },
     "execution_count": 9,
     "metadata": {},
     "output_type": "execute_result"
    }
   ],
   "source": [
    "Author.objects.create(name=\"shabnam\", email=\"shabnan@test.com\")"
   ]
  },
  {
   "cell_type": "code",
   "execution_count": 11,
   "id": "e3d5b403",
   "metadata": {},
   "outputs": [
    {
     "data": {
      "text/plain": [
       "(<Author: fatemeh>, True)"
      ]
     },
     "execution_count": 11,
     "metadata": {},
     "output_type": "execute_result"
    }
   ],
   "source": [
    "Author.objects.get_or_create(name=\"fatemeh\", email=\"shabnan@test.com\")"
   ]
  },
  {
   "cell_type": "code",
   "execution_count": null,
   "id": "52a40271",
   "metadata": {},
   "outputs": [],
   "source": [
    "Author.objects.get_or_create(name=\"hossein\", email=\"hossein@test.com\")"
   ]
  },
  {
   "cell_type": "code",
   "execution_count": null,
   "id": "d3e88083",
   "metadata": {},
   "outputs": [],
   "source": [
    "Author.objects.get_or_create(name=\"hossein\", email=\"shabnan@test.com\")"
   ]
  },
  {
   "cell_type": "code",
   "execution_count": null,
   "id": "034e0c16",
   "metadata": {},
   "outputs": [],
   "source": [
    "Author.objects.bulk_create([Author(name=\"shabnam\", email=\"shabnan@test.com\"), Author(name=\"gholam\", email=\"shabnan@test.com\")])"
   ]
  },
  {
   "cell_type": "code",
   "execution_count": null,
   "id": "98e16e8d",
   "metadata": {},
   "outputs": [],
   "source": [
    "qs = Comment.objects.filter(rate=\"n\") | Comment.objects.filter(body__contains=\"mozakhraf\")"
   ]
  },
  {
   "cell_type": "code",
   "execution_count": null,
   "id": "6b5b4fbb",
   "metadata": {},
   "outputs": [],
   "source": [
    "qs"
   ]
  },
  {
   "cell_type": "code",
   "execution_count": null,
   "id": "a81b9360",
   "metadata": {},
   "outputs": [],
   "source": [
    "Comment.objects.filter(rate=\"n\" , body__contains=\"mozakhraf\")"
   ]
  },
  {
   "cell_type": "code",
   "execution_count": null,
   "id": "1f4073c1",
   "metadata": {},
   "outputs": [],
   "source": [
    "from django.db.models import Q"
   ]
  },
  {
   "cell_type": "code",
   "execution_count": null,
   "id": "8e12b5c6",
   "metadata": {},
   "outputs": [],
   "source": [
    "Comment.objects.filter(Q(rate=\"n\") | Q(body__contains=\"kh\"))"
   ]
  },
  {
   "cell_type": "code",
   "execution_count": null,
   "id": "0cd6ac59",
   "metadata": {},
   "outputs": [],
   "source": [
    "Comment.objects.filter(body__iexact=\"kHeili mozakhraf va khaste konande\")"
   ]
  },
  {
   "cell_type": "code",
   "execution_count": null,
   "id": "a53d280f",
   "metadata": {},
   "outputs": [],
   "source": [
    "Comment.objects.filter(rate=\"n\").filter(body__contains=\"mozakhraf\")"
   ]
  },
  {
   "cell_type": "code",
   "execution_count": null,
   "id": "ffc39987",
   "metadata": {},
   "outputs": [],
   "source": [
    "Comment.objects.filter(rate__in=\"pn\")"
   ]
  },
  {
   "cell_type": "code",
   "execution_count": null,
   "id": "bdce1806",
   "metadata": {},
   "outputs": [],
   "source": [
    "Comment.objects.order_by(\"?\")[:2]"
   ]
  },
  {
   "cell_type": "code",
   "execution_count": null,
   "id": "5e8ffb26",
   "metadata": {},
   "outputs": [],
   "source": [
    "author = Author.objects.get(id=2)\n",
    "article = Article.objects.get(author__name=\"yasaman\")"
   ]
  },
  {
   "cell_type": "code",
   "execution_count": null,
   "id": "7a4b3f8d",
   "metadata": {},
   "outputs": [],
   "source": [
    "article.comment_set.all()"
   ]
  },
  {
   "cell_type": "code",
   "execution_count": 12,
   "id": "1e1d79f9",
   "metadata": {},
   "outputs": [
    {
     "data": {
      "text/plain": [
       "<QuerySet [<Author: asghar>, <Author: ashkan>, <Author: fatemeh>, <Author: gholam>, <Author: hossein>, <Author: shabnam>, <Author: yasaman>]>"
      ]
     },
     "execution_count": 12,
     "metadata": {},
     "output_type": "execute_result"
    }
   ],
   "source": [
    "Author.objects.order_by('name').distinct(\"name\")"
   ]
  },
  {
   "cell_type": "code",
   "execution_count": null,
   "id": "d3e614b4",
   "metadata": {},
   "outputs": [],
   "source": []
  }
 ],
 "metadata": {
  "kernelspec": {
   "display_name": "Django Shell-Plus",
   "language": "python",
   "name": "django_extensions"
  },
  "language_info": {
   "codemirror_mode": {
    "name": "ipython",
    "version": 3
   },
   "file_extension": ".py",
   "mimetype": "text/x-python",
   "name": "python",
   "nbconvert_exporter": "python",
   "pygments_lexer": "ipython3",
   "version": "3.8.10"
  }
 },
 "nbformat": 4,
 "nbformat_minor": 5
}
